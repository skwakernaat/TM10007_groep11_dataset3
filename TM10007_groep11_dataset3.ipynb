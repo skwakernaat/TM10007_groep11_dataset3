{
  "nbformat": 4,
  "nbformat_minor": 0,
  "metadata": {
    "colab": {
      "provenance": [],
      "authorship_tag": "ABX9TyMFKvtkOYbO2iwTZE+7z49R",
      "include_colab_link": true
    },
    "kernelspec": {
      "name": "python3",
      "display_name": "Python 3"
    },
    "language_info": {
      "name": "python"
    }
  },
  "cells": [
    {
      "cell_type": "markdown",
      "metadata": {
        "id": "view-in-github",
        "colab_type": "text"
      },
      "source": [
        "<a href=\"https://colab.research.google.com/github/skwakernaat/TM10007_groep11_dataset3/blob/main/TM10007_groep11_dataset3.ipynb\" target=\"_parent\"><img src=\"https://colab.research.google.com/assets/colab-badge.svg\" alt=\"Open In Colab\"/></a>"
      ]
    },
    {
      "cell_type": "code",
      "execution_count": null,
      "metadata": {
        "id": "7y68mdtsQagu"
      },
      "outputs": [],
      "source": [
        "# Clone the repository\n",
        "!git clone https://github.com/skwakernaat/TM10007_groep11_dataset3.git\n",
        "%cd TM10007_groep11_dataset3\n",
        "\n",
        "# Install required packages\n",
        "!pip install -r requirements.txt\n",
        "\n",
        "# Run the main script\n",
        "!python main.py"
      ]
    }
  ]
}